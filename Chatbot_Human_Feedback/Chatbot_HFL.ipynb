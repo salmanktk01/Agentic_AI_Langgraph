{
 "cells": [
  {
   "cell_type": "code",
   "execution_count": 1,
   "id": "4e44b182",
   "metadata": {},
   "outputs": [],
   "source": [
    "from typing import Annotated #add some speical things to do \n",
    "from typing_extensions import TypedDict  #it tell you to key value relation\n",
    "\n",
    "from langgraph.graph import StateGraph,START,END\n",
    "from langgraph.graph.message import add_messages"
   ]
  },
  {
   "cell_type": "code",
   "execution_count": 2,
   "id": "05167bbd",
   "metadata": {},
   "outputs": [
    {
     "data": {
      "text/plain": [
       "True"
      ]
     },
     "execution_count": 2,
     "metadata": {},
     "output_type": "execute_result"
    }
   ],
   "source": [
    "import os \n",
    "from dotenv import load_dotenv\n",
    "load_dotenv()"
   ]
  },
  {
   "cell_type": "code",
   "execution_count": 3,
   "id": "a9bb9df7",
   "metadata": {},
   "outputs": [],
   "source": [
    "from langchain_groq import ChatGroq\n",
    "llm=ChatGroq(model=\"llama3-8b-8192\")"
   ]
  },
  {
   "cell_type": "code",
   "execution_count": 4,
   "id": "ef19e0a5",
   "metadata": {},
   "outputs": [
    {
     "data": {
      "text/plain": [
       "{'query': 'What is today news',\n",
       " 'follow_up_questions': None,\n",
       " 'answer': None,\n",
       " 'images': [],\n",
       " 'results': [{'url': 'https://www.usatoday.com/',\n",
       "   'title': 'USA TODAY - Breaking News and Latest News Today',\n",
       "   'content': 'USA TODAY delivers current national and local news, sports, entertainment, finance, technology, and more through award-winning journalism, photos,',\n",
       "   'score': 0.61057013,\n",
       "   'raw_content': None},\n",
       "  {'url': 'https://www.cnn.com/',\n",
       "   'title': 'CNN: Breaking News, Latest News and Videos',\n",
       "   'content': 'View the latest news and breaking news today for U.S., world, weather, entertainment, politics and health at CNN.com.',\n",
       "   'score': 0.33809948,\n",
       "   'raw_content': None},\n",
       "  {'url': 'https://www.cbsnews.com/',\n",
       "   'title': \"CBS News | Breaking news, top stories & today's latest headlines\",\n",
       "   'content': 'Top Videos · CBS News Live · CBS News 24/7 · Trump signs budget bill into law · Rescues continue in Texas after deadly floods · Hamas gives response to latest',\n",
       "   'score': 0.32911187,\n",
       "   'raw_content': None},\n",
       "  {'url': 'https://www.foxnews.com/',\n",
       "   'title': 'Fox News - Breaking News Updates | Latest News Headlines ...',\n",
       "   'content': \"Latest Breaking News Today from Fox News · Senators clash over 'Big, Beautiful Bill' provision that could impact millions - Fox · Expert warns Xi's summit snub\",\n",
       "   'score': 0.32901484,\n",
       "   'raw_content': None},\n",
       "  {'url': 'https://www.nbcnews.com/',\n",
       "   'title': 'NBC News - Breaking News & Top Stories - Latest World, US ...',\n",
       "   'content': \"15h ago. Live updates: Dozens dead in Texas floods with 27 still missing from summer camp · 14h ago. Julian McMahon, star of 'Nip/Tuck' and 'Fantastic Four,'\",\n",
       "   'score': 0.18532747,\n",
       "   'raw_content': None}],\n",
       " 'response_time': 2.78}"
      ]
     },
     "execution_count": 4,
     "metadata": {},
     "output_type": "execute_result"
    }
   ],
   "source": [
    "from langchain_tavily import TavilySearch\n",
    "takivly_tool=TavilySearch(max_result=2)\n",
    "takivly_tool.invoke(\"What is today news\")"
   ]
  },
  {
   "cell_type": "code",
   "execution_count": 6,
   "id": "a90c70f8",
   "metadata": {},
   "outputs": [],
   "source": [
    "from langchain_core.tools import tool\n",
    "from langgraph.types import interrupt,Command"
   ]
  },
  {
   "cell_type": "code",
   "execution_count": 23,
   "id": "62be525f",
   "metadata": {},
   "outputs": [],
   "source": [
    "class state(TypedDict):\n",
    "    messages:Annotated[list,add_messages]\n",
    "\n",
    "graph_builder=StateGraph(state)"
   ]
  },
  {
   "cell_type": "code",
   "execution_count": 24,
   "id": "5463afce",
   "metadata": {},
   "outputs": [],
   "source": [
    "@tool\n",
    "def human_assitance(query:str):\n",
    "    \"\"\"Request assitance from a human.\"\"\"\n",
    "    human_response=interrupt({\"query\":query})\n",
    "    return human_response[\"data\"]"
   ]
  },
  {
   "cell_type": "code",
   "execution_count": 25,
   "id": "d96efaa0",
   "metadata": {},
   "outputs": [],
   "source": [
    "tools=[takivly_tool,human_assitance]\n"
   ]
  },
  {
   "cell_type": "code",
   "execution_count": 26,
   "id": "b099b265",
   "metadata": {},
   "outputs": [],
   "source": [
    "llm_with_tool=llm.bind_tools(tools)"
   ]
  },
  {
   "cell_type": "code",
   "execution_count": 27,
   "id": "88d995ed",
   "metadata": {},
   "outputs": [],
   "source": [
    "from langgraph.graph import StateGraph,START,END\n",
    "from langgraph.prebuilt import ToolNode\n",
    "from langgraph.prebuilt import tools_condition\n",
    "from langgraph.checkpoint.memory import MemorySaver"
   ]
  },
  {
   "cell_type": "code",
   "execution_count": 28,
   "id": "12fb3c8b",
   "metadata": {},
   "outputs": [
    {
     "data": {
      "image/png": "[encoded data removed]",
      "text/plain": [
       "<langgraph.graph.state.CompiledStateGraph object at 0x000001C0F6A9F3D0>"
      ]
     },
     "execution_count": 28,
     "metadata": {},
     "output_type": "execute_result"
    }
   ],
   "source": [
    "#for memory\n",
    "memory=MemorySaver()\n",
    "\n",
    "def tool_calling_llm(state:state):\n",
    "    return {\"messages\":[llm_with_tool.invoke(state[\"messages\"])]}\n",
    "#Nodes\n",
    "graph_builder.add_node(\"tool_calling_llm\",tool_calling_llm)\n",
    "graph_builder.add_node(\"tools\",ToolNode(tools))\n",
    "\n",
    "#edges\n",
    "graph_builder.add_edge(START,\"tool_calling_llm\")\n",
    "def my_tools_condition(state):\n",
    "    \"\"\"Custom tools condition that checks for tool calls\"\"\"\n",
    "    messages = state.get(\"messages\", [])\n",
    "    if not messages:\n",
    "        return \"end\"\n",
    "    \n",
    "    last_message = messages[-1]\n",
    "    \n",
    "    # Check if the last message has tool calls\n",
    "    if hasattr(last_message, 'tool_calls') and last_message.tool_calls:\n",
    "        return \"tools\"\n",
    "    else:\n",
    "        return \"end\"\n",
    "\n",
    "# Use your custom function\n",
    "graph_builder.add_conditional_edges(\n",
    "    \"tool_calling_llm\",\n",
    "    my_tools_condition,\n",
    "    {\n",
    "        \"tools\": \"tools\",\n",
    "        \"end\": END\n",
    "    }\n",
    ")\n",
    "graph_builder.add_edge(\"tools\",\"tool_calling_llm\")\n",
    "graphs=graph_builder.compile(checkpointer=memory)\n",
    "graphs"
   ]
  },
  {
   "cell_type": "code",
   "execution_count": 29,
   "id": "368c2167",
   "metadata": {},
   "outputs": [],
   "source": [
    "config={\"configurable\":{\"thread_id\":\"1\"}}"
   ]
  },
  {
   "cell_type": "code",
   "execution_count": 37,
   "id": "4672651e",
   "metadata": {},
   "outputs": [
    {
     "data": {
      "text/plain": [
       "{'messages': [SystemMessage(content=\"Respond factually to the user's message. If the user talks about themselves, do not assume they mean someone famous.\", additional_kwargs={}, response_metadata={}, id='213756fa-7da2-4668-a407-cb8f3c21702c'),\n",
       "  HumanMessage(content='Hi, My name is muhammad Salman', additional_kwargs={}, response_metadata={}, id='4bd642d7-c766-44cd-b7ab-cb96cb6a8d72'),\n",
       "  AIMessage(content=\"Hello Muhammad Salman! It's nice to meet you.\", additional_kwargs={}, response_metadata={'token_usage': {'completion_tokens': 12, 'prompt_tokens': 2191, 'total_tokens': 2203, 'completion_time': 0.021730363, 'prompt_time': 0.385810053, 'queue_time': 0.24087230900000006, 'total_time': 0.407540416}, 'model_name': 'llama3-8b-8192', 'system_fingerprint': 'fp_8dc6ecaf8e', 'finish_reason': 'stop', 'logprobs': None}, id='run--b65aa648-a221-43bf-a122-08058cb8a29b-0', usage_metadata={'input_tokens': 2191, 'output_tokens': 12, 'total_tokens': 2203}),\n",
       "  SystemMessage(content=\"Respond factually to the user's message. If the user talks about themselves, do not assume they mean someone famous.\", additional_kwargs={}, response_metadata={}, id='fcc6b31f-8f4b-4d85-8006-b2805bbdd5b9'),\n",
       "  HumanMessage(content='I need some expert guidance for building AI agent.could you request human assitance for me', additional_kwargs={}, response_metadata={}, id='9605a06a-c3a5-4a70-8e7e-1db25ad75445'),\n",
       "  AIMessage(content='', additional_kwargs={'tool_calls': [{'id': 'nv1yj2wa7', 'function': {'arguments': '{\"query\":\"I need expert guidance for building AI agent.\"}', 'name': 'human_assitance'}, 'type': 'function'}]}, response_metadata={'token_usage': {'completion_tokens': 102, 'prompt_tokens': 2255, 'total_tokens': 2357, 'completion_time': 0.076584993, 'prompt_time': 0.250539768, 'queue_time': 0.20956068, 'total_time': 0.327124761}, 'model_name': 'llama3-8b-8192', 'system_fingerprint': 'fp_6d1c2b0784', 'finish_reason': 'tool_calls', 'logprobs': None}, id='run--ba4392ee-42b5-4fe2-8292-61a7b327fa25-0', tool_calls=[{'name': 'human_assitance', 'args': {'query': 'I need expert guidance for building AI agent.'}, 'id': 'nv1yj2wa7', 'type': 'tool_call'}], usage_metadata={'input_tokens': 2255, 'output_tokens': 102, 'total_tokens': 2357}),\n",
       "  SystemMessage(content=\"Respond factually to the user's message. If the user talks about themselves, do not assume they mean someone famous.\", additional_kwargs={}, response_metadata={}, id='51c5c4ee-18c9-4db1-b9f8-042460ef2992'),\n",
       "  HumanMessage(content='I need some expert guidance for building AI agent.could you request human assitance for me', additional_kwargs={}, response_metadata={}, id='7e147bd4-2733-484f-90ba-965f64bb68e1'),\n",
       "  AIMessage(content=\"I've requested human assistance for you. A human expert will be in touch with you to provide guidance on building an AI agent.\", additional_kwargs={}, response_metadata={'token_usage': {'completion_tokens': 27, 'prompt_tokens': 2356, 'total_tokens': 2383, 'completion_time': 0.020371137, 'prompt_time': 0.259362292, 'queue_time': 0.209371509, 'total_time': 0.279733429}, 'model_name': 'llama3-8b-8192', 'system_fingerprint': 'fp_6d1c2b0784', 'finish_reason': 'stop', 'logprobs': None}, id='run--b3dbd0f1-d4b2-49a2-a0af-5555e3684006-0', usage_metadata={'input_tokens': 2356, 'output_tokens': 27, 'total_tokens': 2383})]}"
      ]
     },
     "execution_count": 37,
     "metadata": {},
     "output_type": "execute_result"
    }
   ],
   "source": [
    "from langchain_core.messages import SystemMessage, HumanMessage\n",
    "\n",
    "system_instruction = SystemMessage(content=\"Respond factually to the user's message. If the user talks about themselves, do not assume they mean someone famous.\")\n",
    "user_message = HumanMessage(content=\"I need some expert guidance for building AI agent.could you request human assitance for me\")\n",
    "\n",
    "\n",
    "results = graphs.invoke(\n",
    "    {\n",
    "        \"messages\": [system_instruction, user_message]\n",
    "    },\n",
    "    config=config  ,\n",
    "    stream_mode=\"values\"\n",
    ")\n",
    "results\n",
    "\n"
   ]
  },
  {
   "cell_type": "code",
   "execution_count": 38,
   "id": "f5616b21",
   "metadata": {},
   "outputs": [],
   "source": [
    "if \"__interrupt__\" in results:\n",
    "    print(\" Human assistance required.\")\n",
    "    print(\" Tool called with query:\", results[\"__interrupt__\"][0][\"value\"][\"query\"])\n",
    "\n",
    "    human_reply = HumanMessage(content=\"Yes, I want to create a LangGraph-based multi-agent system using LangChain.\")\n",
    "\n",
    "    # Resume graph\n",
    "    async for step in graphs.stream({\"resume\": {\"data\": human_reply}}, config=config, stream_mode=\"values\"):\n",
    "        print(step)\n"
   ]
  },
  {
   "cell_type": "code",
   "execution_count": null,
   "id": "b32123cc",
   "metadata": {},
   "outputs": [],
   "source": []
  }
 ],
 "metadata": {
  "kernelspec": {
   "display_name": ".venv",
   "language": "python",
   "name": "python3"
  },
  "language_info": {
   "codemirror_mode": {
    "name": "ipython",
    "version": 3
   },
   "file_extension": ".py",
   "mimetype": "text/x-python",
   "name": "python",
   "nbconvert_exporter": "python",
   "pygments_lexer": "ipython3",
   "version": "3.10.9"
  }
 },
 "nbformat": 4,
 "nbformat_minor": 5
}
