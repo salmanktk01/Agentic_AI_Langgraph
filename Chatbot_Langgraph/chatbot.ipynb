{
 "cells": [
  {
   "cell_type": "code",
   "execution_count": null,
   "id": "feb69380",
   "metadata": {},
   "outputs": [],
   "source": [
    "from typing import Annotated #add some speical things to do \n",
    "from typing_extensions import TypedDict  #it tell you to key value relation\n",
    "\n",
    "from langgraph.graph import StateGraph,START,END\n",
    "from langgraph.graph.message import add_messages"
   ]
  },
  {
   "cell_type": "code",
   "execution_count": 16,
   "id": "fe4358e3",
   "metadata": {},
   "outputs": [],
   "source": [
    "class state(TypedDict):\n",
    "    message:Annotated[list,add_messages]\n",
    "\n",
    "graph_builder=StateGraph(state)"
   ]
  },
  {
   "cell_type": "code",
   "execution_count": 6,
   "id": "bc66fb77",
   "metadata": {},
   "outputs": [
    {
     "data": {
      "text/plain": [
       "True"
      ]
     },
     "execution_count": 6,
     "metadata": {},
     "output_type": "execute_result"
    }
   ],
   "source": [
    "import os \n",
    "from dotenv import load_dotenv\n",
    "load_dotenv()"
   ]
  },
  {
   "cell_type": "code",
   "execution_count": 7,
   "id": "0e308040",
   "metadata": {},
   "outputs": [],
   "source": [
    "from langchain_groq import ChatGroq\n",
    "llm=ChatGroq(model=\"llama3-8b-8192\")"
   ]
  },
  {
   "cell_type": "code",
   "execution_count": 8,
   "id": "7846b5e0",
   "metadata": {},
   "outputs": [
    {
     "data": {
      "text/plain": [
       "ChatGroq(client=<groq.resources.chat.completions.Completions object at 0x0000022DBE04F010>, async_client=<groq.resources.chat.completions.AsyncCompletions object at 0x0000022DBDE24250>, model_name='llama3-8b-8192', model_kwargs={}, groq_api_key=SecretStr('**********'))"
      ]
     },
     "execution_count": 8,
     "metadata": {},
     "output_type": "execute_result"
    }
   ],
   "source": [
    "llm"
   ]
  },
  {
   "cell_type": "code",
   "execution_count": 9,
   "id": "cc6cd25d",
   "metadata": {},
   "outputs": [],
   "source": [
    "#this is node #it is returing a message in dictionary format after the mpdel get invoked\n",
    "def chatbot(state:state):\n",
    "    return {\"message\":[llm.invoke(state[\"message\"])]}"
   ]
  },
  {
   "cell_type": "code",
   "execution_count": 17,
   "id": "ee45a48e",
   "metadata": {},
   "outputs": [],
   "source": [
    "#here we adding the node \n",
    "graph_builder.add_node(\"LLMchatbot\",chatbot)\n",
    "#now come the edges \n",
    "graph_builder.add_edge(START,\"LLMchatbot\") #from the start goes toward the chatbot\n",
    "\n",
    "graph_builder.add_edge(\"LLMchatbot\",END) #from the chatbot goes to end of the chatbot\n",
    "\n",
    "graph=graph_builder.compile()"
   ]
  },
  {
   "cell_type": "code",
   "execution_count": 18,
   "id": "412fe35b",
   "metadata": {},
   "outputs": [
    {
     "data": {
      "image/png": "[encoded data removed]",
      "text/plain": [
       "<IPython.core.display.Image object>"
      ]
     },
     "metadata": {},
     "output_type": "display_data"
    }
   ],
   "source": [
    "#now in order to visuilze this whole process\n",
    "from IPython.display import Image,display\n",
    "try:\n",
    "    display(Image(graph.get_graph().draw_mermaid_png()))\n",
    "except Exception:\n",
    "    pass"
   ]
  },
  {
   "cell_type": "code",
   "execution_count": 20,
   "id": "6b383bdd",
   "metadata": {},
   "outputs": [],
   "source": [
    "response=graph.invoke({\"message\":\"Hi\"})"
   ]
  },
  {
   "cell_type": "code",
   "execution_count": 21,
   "id": "212c6fc6",
   "metadata": {},
   "outputs": [
    {
     "data": {
      "text/plain": [
       "\"Hi! It's nice to meet you. Is there something I can help you with or would you like to chat?\""
      ]
     },
     "execution_count": 21,
     "metadata": {},
     "output_type": "execute_result"
    }
   ],
   "source": [
    "response[\"message\"][-1].content"
   ]
  },
  {
   "cell_type": "code",
   "execution_count": 24,
   "id": "320dd215",
   "metadata": {},
   "outputs": [
    {
     "name": "stdout",
     "output_type": "stream",
     "text": [
      "Hi! It's nice to meet you. Is there something I can help you with or would you like to chat?\n"
     ]
    }
   ],
   "source": [
    "for event in graph.stream({\"message\":\"Hi\"}):\n",
    "    for value in event.values():\n",
    "     print(value[\"message\"][-1].content)\n"
   ]
  }
 ],
 "metadata": {
  "kernelspec": {
   "display_name": ".venv",
   "language": "python",
   "name": "python3"
  },
  "language_info": {
   "codemirror_mode": {
    "name": "ipython",
    "version": 3
   },
   "file_extension": ".py",
   "mimetype": "text/x-python",
   "name": "python",
   "nbconvert_exporter": "python",
   "pygments_lexer": "ipython3",
   "version": "3.10.9"
  }
 },
 "nbformat": 4,
 "nbformat_minor": 5
}
