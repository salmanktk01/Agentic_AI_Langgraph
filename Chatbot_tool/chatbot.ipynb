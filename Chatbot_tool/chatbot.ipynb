{
 "cells": [
  {
   "cell_type": "code",
   "execution_count": 2,
   "id": "67d690c6",
   "metadata": {},
   "outputs": [],
   "source": [
    "from typing import Annotated #add some speical things to do \n",
    "from typing_extensions import TypedDict  #it tell you to key value relation\n",
    "\n",
    "from langgraph.graph import StateGraph,START,END\n",
    "from langgraph.graph.message import add_messages"
   ]
  },
  {
   "cell_type": "code",
   "execution_count": 3,
   "id": "02ec89e2",
   "metadata": {},
   "outputs": [
    {
     "data": {
      "text/plain": [
       "True"
      ]
     },
     "execution_count": 3,
     "metadata": {},
     "output_type": "execute_result"
    }
   ],
   "source": [
    "import os \n",
    "from dotenv import load_dotenv\n",
    "load_dotenv()"
   ]
  },
  {
   "cell_type": "code",
   "execution_count": 4,
   "id": "f48fff9e",
   "metadata": {},
   "outputs": [],
   "source": [
    "from langchain_groq import ChatGroq\n",
    "llm=ChatGroq(model=\"llama3-8b-8192\")"
   ]
  },
  {
   "cell_type": "code",
   "execution_count": 5,
   "id": "9cc4f7f5",
   "metadata": {},
   "outputs": [
    {
     "data": {
      "text/plain": [
       "{'query': 'What is today news',\n",
       " 'follow_up_questions': None,\n",
       " 'answer': None,\n",
       " 'images': [],\n",
       " 'results': [{'url': 'https://www.usatoday.com/',\n",
       "   'title': 'USA TODAY - Breaking News and Latest News Today',\n",
       "   'content': \"Fireworks on TV tonight? NYC to blast 80K shells near Brooklyn Bridge · Joey Chestnut competes during Nathan's Dog Eating Contest · Trump signs sweeping tax cut\",\n",
       "   'score': 0.47694567,\n",
       "   'raw_content': None},\n",
       "  {'url': 'https://www.cbsnews.com/',\n",
       "   'title': \"CBS News | Breaking news, top stories & today's latest headlines\",\n",
       "   'content': 'Dozens dead in Texas after devastating floods slam Hill Country, officials say · Trump signs \"big, beautiful bill\" in July Fourth ceremony at White House.',\n",
       "   'score': 0.39494804,\n",
       "   'raw_content': None},\n",
       "  {'url': 'https://www.cnn.com/',\n",
       "   'title': 'CNN: Breaking News, Latest News and Videos',\n",
       "   'content': 'View the latest news and breaking news today for U.S., world, weather, entertainment, politics and health at CNN.com.',\n",
       "   'score': 0.33809948,\n",
       "   'raw_content': None},\n",
       "  {'url': 'https://www.foxnews.com/',\n",
       "   'title': 'Fox News - Breaking News Updates | Latest News Headlines ...',\n",
       "   'content': \"Latest Breaking News Today from Fox News · Federal judge thwarts Trump admin's holiday deportation plan for criminal migrants - Fox News · First lady Melania\",\n",
       "   'score': 0.31050667,\n",
       "   'raw_content': None},\n",
       "  {'url': 'https://www.nbcnews.com/',\n",
       "   'title': 'NBC News - Breaking News & Top Stories - Latest World, US ...',\n",
       "   'content': '24 dead in Texas flash flooding, and search continues for more than 20 missing from camp. More than 400 people are on the ground responding to the disaster',\n",
       "   'score': 0.19715096,\n",
       "   'raw_content': None}],\n",
       " 'response_time': 2.47}"
      ]
     },
     "execution_count": 5,
     "metadata": {},
     "output_type": "execute_result"
    }
   ],
   "source": [
    "from langchain_tavily import TavilySearch\n",
    "takivly_tool=TavilySearch(max_result=2)\n",
    "takivly_tool.invoke(\"What is today news\")"
   ]
  },
  {
   "cell_type": "code",
   "execution_count": 6,
   "id": "535a5f37",
   "metadata": {},
   "outputs": [],
   "source": [
    "#how to work with custom function and this is docs string\n",
    "from langchain.tools import tool\n",
    "\n",
    "@tool\n",
    "def my_func(a: int, b: int) -> int:\n",
    "    \"\"\"\n",
    "    Adds two numbers.\n",
    "\n",
    "    Args:\n",
    "        a (int): First number.\n",
    "        b (int): Second number.\n",
    "\n",
    "    Returns:\n",
    "        int: Sum of a and b.\n",
    "    \"\"\"\n",
    "    return a + b\n"
   ]
  },
  {
   "cell_type": "code",
   "execution_count": 7,
   "id": "63e787d5",
   "metadata": {},
   "outputs": [],
   "source": [
    "llm_with_tool = llm.bind_tools([my_func])\n"
   ]
  },
  {
   "cell_type": "code",
   "execution_count": 8,
   "id": "8f9b073f",
   "metadata": {},
   "outputs": [
    {
     "data": {
      "text/plain": [
       "''"
      ]
     },
     "execution_count": 8,
     "metadata": {},
     "output_type": "execute_result"
    }
   ],
   "source": [
    "from langchain_core.messages import HumanMessage\n",
    "\n",
    "result=llm_with_tool.invoke([HumanMessage(content=\"What is 3 + 5?\")])\n",
    "result.content"
   ]
  },
  {
   "cell_type": "code",
   "execution_count": 9,
   "id": "778a8371",
   "metadata": {},
   "outputs": [],
   "source": [
    "tools=[takivly_tool,my_func]\n"
   ]
  },
  {
   "cell_type": "code",
   "execution_count": 9,
   "id": "529839fa",
   "metadata": {},
   "outputs": [],
   "source": [
    "llm_with_tool=llm.bind_tools(tools)"
   ]
  },
  {
   "cell_type": "code",
   "execution_count": 19,
   "id": "a8c48825",
   "metadata": {},
   "outputs": [],
   "source": [
    "class state(TypedDict):\n",
    "    messages:Annotated[list,add_messages]\n",
    "\n",
    "graph_builder=StateGraph(state)"
   ]
  },
  {
   "cell_type": "code",
   "execution_count": 11,
   "id": "1ffa98f5",
   "metadata": {},
   "outputs": [],
   "source": [
    "from langgraph.graph import StateGraph,START,END\n",
    "from langgraph.prebuilt import ToolNode\n",
    "from langgraph.prebuilt import tools_condition"
   ]
  },
  {
   "cell_type": "code",
   "execution_count": 20,
   "id": "448b2d39",
   "metadata": {},
   "outputs": [
    {
     "data": {
      "image/png": "[encoded data removed]",
      "text/plain": [
       "<langgraph.graph.state.CompiledStateGraph object at 0x000002837A1BBDC0>"
      ]
     },
     "execution_count": 20,
     "metadata": {},
     "output_type": "execute_result"
    }
   ],
   "source": [
    "def tool_calling_llm(state:state):\n",
    "    return {\"messages\":[llm_with_tool.invoke(state[\"messages\"])]}\n",
    "#Nodes\n",
    "graph_builder.add_node(\"tool_calling_llm\",tool_calling_llm)\n",
    "graph_builder.add_node(\"tools\",ToolNode(tools))\n",
    "\n",
    "#edges\n",
    "graph_builder.add_edge(START,\"tool_calling_llm\")\n",
    "def my_tools_condition(state):\n",
    "    \"\"\"Custom tools condition that checks for tool calls\"\"\"\n",
    "    messages = state.get(\"messages\", [])\n",
    "    if not messages:\n",
    "        return \"end\"\n",
    "    \n",
    "    last_message = messages[-1]\n",
    "    \n",
    "    # Check if the last message has tool calls\n",
    "    if hasattr(last_message, 'tool_calls') and last_message.tool_calls:\n",
    "        return \"tools\"\n",
    "    else:\n",
    "        return \"end\"\n",
    "\n",
    "# Use your custom function\n",
    "graph_builder.add_conditional_edges(\n",
    "    \"tool_calling_llm\",\n",
    "    my_tools_condition,\n",
    "    {\n",
    "        \"tools\": \"tools\",\n",
    "        \"end\": END\n",
    "    }\n",
    ")\n",
    "graph_builder.add_edge(\"tools\",END)\n",
    "graphs=graph_builder.compile()\n",
    "graphs"
   ]
  },
  {
   "cell_type": "code",
   "execution_count": 21,
   "id": "8444c67f",
   "metadata": {},
   "outputs": [
    {
     "data": {
      "text/plain": [
       "'{\"query\": \"today news\", \"follow_up_questions\": null, \"answer\": null, \"images\": [], \"results\": [{\"url\": \"https://www.euronews.com/2025/06/28/biden-harris-and-walz-attend-funeral-for-former-minnesota-house-speaker-melissa-hortman\", \"title\": \"Biden, Harris and Walz attend funeral for former Minnesota House Speaker Melissa Hortman - Euronews.com\", \"score\": 0.5192538, \"published_date\": \"Sat, 28 Jun 2025 21:27:46 GMT\", \"content\": \"Top News Stories TodayImage 3: Latest news bulletin | June 29th – EveningLatest news bulletin | June 29th – EveningEurope NewsImage 4: Pro-EU demonstration during the Romanian presidential election campaign, 2025.European flag celebrates 40 years as symbol for EU and predecessorTech NewsImage 5: stock photoExtremism and video games: How extremist groups are grooming childrenTravel NewsImage 6: Rijeka, CroatiaPKP launches night train from Warsaw to Croatian coast\\\\n\\\\n   Europe [...] Live\\\\n\\\\nClose menu sidebar \\\\n\\\\n- [x]  English  \\\\n   English\\\\n   Français\\\\n   Deutsch\\\\n   Italiano\\\\n   Español\\\\n   Português\\\\n   Polski\\\\n   Pусский\\\\n   Türkçe\\\\n   Ελληνικά\\\\n   Magyar\\\\n   فارسی\\\\n   العربية\\\\n   Shqip\\\\n   Română\\\\n   ქართული\\\\n   български\\\\n   Srpski\\\\n   BHS\\\\n\\\\nLatest\\\\n\\\\n- [x] \\\\n\\\\nTrending\\\\n\\\\n   Poland\\\\n   Donald Trump\\\\n   LGBTQ+\\\\n   Tourism\\\\n   European Union\\\\n   Gay pride\\\\n\\\\n  \\\\n\\\\nLatest stories\\\\n\\\\nTop News Stories TodayImage 22: Latest news bulletin | June 29th – EveningLatest news bulletin | June 29th – Evening [...] Programmes\\\\n\\\\n   Spotlight\\\\n   Euronews Witness\\\\n   Qatar 365\\\\n   World News\\\\n   Euronews Debates\\\\n   Top News Stories Today\\\\n\\\\n  \\\\n\\\\nFeatured\\\\n\\\\n   Image 28 No Comment No agenda, no argument, no bias, No Comment.Get the story without commentary.\\\\n\\\\nEU Policy\\\\n\\\\nBusiness\\\\n\\\\n- [x] \\\\n\\\\nCategories\\\\n\\\\n   Business\\\\n   Economy\\\\n   Markets\\\\n\\\\n  \\\\n\\\\nProgrammes\\\\n\\\\n   Business Planet\\\\n   Focus\\\\n   Global Japan\\\\n   Real Economy\\\\n   Start Me Up\\\\n   The Dialogue\\\\n   Target\\\\n   The Exchange\\\\n\\\\n  \\\\n\\\\nFeatured\", \"raw_content\": null}, {\"url\": \"https://hubnetwork.in/lachen-landslide-armys-tech-driven-rescue-a-new-benchmark-in-disaster-response/\", \"title\": \"Lachen landslide: Army’s tech-driven rescue a new benchmark in disaster response - Hub News\", \"score\": 0.34448805, \"published_date\": \"Tue, 24 Jun 2025 08:38:55 GMT\", \"content\": \"Image 8: spot_img\\\\n\\\\n#### Latest article\\\\n\\\\n\\\\n\\\\n### Opposition blocks KHADC Budget move, House adjourned\\\\n\\\\nJune 24, 2025\\\\n\\\\n\\\\n\\\\n### Tripura achieves 95.6 % literacy, becomes India’s third ‘Fully Literate’ state\\\\n\\\\nJune 24, 2025\\\\n\\\\n\\\\n\\\\n### Education Minister clarifies MoU with Mothers’ Union, assures no change in teachers’ salaries\\\\n\\\\nJune 24, 2025\\\\n\\\\n\\\\n\\\\n### Shillong-Dawki four-laning project on track, Western Bypass hits land snags\\\\n\\\\nJune 24, 2025 [...] ### Opposition blocks KHADC Budget move, House adjourned\\\\n\\\\nJune 24, 2025\\\\n\\\\n\\\\n\\\\n### Tripura achieves 95.6 % literacy, becomes India’s third ‘Fully Literate’ state\\\\n\\\\nJune 24, 2025\\\\n\\\\n\\\\n\\\\n### Education Minister clarifies MoU with Mothers’ Union, assures no change in teachers’ salaries\\\\n\\\\nJune 24, 2025\\\\n\\\\n\\\\n\\\\n### Shillong-Dawki four-laning project on track, Western Bypass hits land snags\\\\n\\\\nJune 24, 2025\\\\n\\\\nImage 7: Hub Network\\\\n\\\\nHub Network [...] Guwahati, June 24: A rescue operation by the Indian Army in the highlands of Lachen, Sikkim, has unveiled a powerful new model for disaster response—one that blends boots-on-ground bravery with cutting-edge technology.\", \"raw_content\": null}, {\"url\": \"https://www.cnn.com/2025/06/23/us/5-things-pm-june-23-trnd\", \"title\": \"Dangerous heat waves, box office bounces back, extreme day trips: Catch up on the day’s stories - CNN\", \"score\": 0.30349484, \"published_date\": \"Mon, 23 Jun 2025 21:02:00 GMT\", \"content\": \"2️⃣ Masked up:Federal officers — often wearing masks but not uniforms or displaying badges — are arresting people outside courtroom hearings, during traffic stops and in workplace sweeps. It has become the new calling card of the immigration crackdown.\\\\n\\\\n3️⃣ All-star defense:Nine attorneys fill two tables in the courtroom for Sean “Diddy” Combs during his sex-trafficking trial. Some are confrontational cross examiners, while others take a softer approach to witnesses. The stakes are high. [...] 🚘 Preserving a classic:Hong Kong announced a shift away from the city’s iconic red taxis toward multicolored electric and hybrid vehicles, so Alan Wu bought one and refurbished it to keep the nostalgia alive.\\\\n\\\\nTop headlines\\\\n-------------\\\\n\\\\n• Iranian missiles fired at US base in Qatar intercepted\\\\n\\\\n• 6 reported dead and 2 missing after boat capsizes on Lake Tahoe\\\\n\\\\n• Texas governor vetoes bill that would ban all THC products\\\\n\\\\n145\\\\n--- [...] First images from the largest camera ever built reveal millions of galaxies\\\\n\\\\nMake Alberta Great Again: In this Canadian province, separatists see Trump as an ally\\\\n\\\\nHere’s how Iran could respond to US strikes on its nuclear sites\\\\n\\\\nSupreme Court prepares to release major opinions on birthright citizenship, LGBTQ books, porn sites and more\\\\n\\\\nBride shot dead at wedding party in French village\\\\n\\\\nTrump floats Iran ‘regime change’ even as the true impact of US strikes is far from clear\", \"raw_content\": null}, {\"url\": \"https://www.cnn.com/2025/06/26/economy/us-gdp-q1-final\", \"title\": \"The US economy shrank much faster in the first quarter than previously reported - CNN\", \"score\": 0.20027633, \"published_date\": \"Thu, 26 Jun 2025 12:40:00 GMT\", \"content\": \"Image 2Trump’s tariffs were supposed to strengthen the dollar. So why is it the weakest it’s been in three years? Jun 25, 2025 4 minute read min read\\\\n\\\\nImage 3Trump megabill and economic agenda would spur growth and reduce national debt, according to White House report Jun 25, 2025 3 minute read min read\\\\n\\\\nImage 4Americans are feeling worse about the economy — especially Republicans Jun 24, 2025 2 minute read min read [...] Gross domestic product, the broadest measure of economic output, registered an annualized rate of -0.5% from January through March, the Commerce Department said Thursday in its third and final estimate. That’s worse than the 0.2% decline reported in the second estimate. GDP is adjusted for seasonal swings and inflation.\\\\n\\\\n_This is a developing story and will be updated._\\\\n\\\\nAd Feedback\\\\n\\\\n5 comments\\\\n\\\\nUp next\\\\n------- [...] QuantumScape Corporation Class A\\\\n\\\\n5.67\\\\n\\\\n+ 1.34\\\\n\\\\n30.95%\\\\n\\\\nFear & Greed Index\\\\n\\\\n58\\\\n\\\\n\\\\n\\\\n Link Copied! \\\\n\\\\n5 comments\\\\n\\\\nFollow:\\\\n\\\\nSee your latest updates\\\\n\\\\nImage 1\\\\n\\\\nCNN\\\\n\\\\nWashington CNN—\\\\n\\\\nThe US economy contracted in the beginning of the year at a much faster pace than previously reported, as tariff fears took a much greater toll on economic growth.\", \"raw_content\": null}], \"response_time\": 2.17}'"
      ]
     },
     "execution_count": 21,
     "metadata": {},
     "output_type": "execute_result"
    }
   ],
   "source": [
    "from langchain_core.messages import HumanMessage\n",
    "\n",
    "# ✅ This will work\n",
    "result = graphs.invoke({\"messages\":\"what is today news\"})\n",
    "result[\"messages\"][-1].content"
   ]
  },
  {
   "cell_type": "code",
   "execution_count": 22,
   "id": "0d3f06ff",
   "metadata": {},
   "outputs": [
    {
     "name": "stdout",
     "output_type": "stream",
     "text": [
      "================================\u001b[1m Human Message \u001b[0m=================================\n",
      "\n",
      "what is today news\n",
      "==================================\u001b[1m Ai Message \u001b[0m==================================\n",
      "Tool Calls:\n",
      "  tavily_search (dmmanwpmb)\n",
      " Call ID: dmmanwpmb\n",
      "  Args:\n",
      "    query: today news\n",
      "    search_depth: advanced\n",
      "    topic: news\n",
      "=================================\u001b[1m Tool Message \u001b[0m=================================\n",
      "Name: tavily_search\n",
      "\n",
      "{\"query\": \"today news\", \"follow_up_questions\": null, \"answer\": null, \"images\": [], \"results\": [{\"url\": \"https://www.euronews.com/2025/06/28/biden-harris-and-walz-attend-funeral-for-former-minnesota-house-speaker-melissa-hortman\", \"title\": \"Biden, Harris and Walz attend funeral for former Minnesota House Speaker Melissa Hortman - Euronews.com\", \"score\": 0.5192538, \"published_date\": \"Sat, 28 Jun 2025 21:27:46 GMT\", \"content\": \"Top News Stories TodayImage 3: Latest news bulletin | June 29th – EveningLatest news bulletin | June 29th – EveningEurope NewsImage 4: Pro-EU demonstration during the Romanian presidential election campaign, 2025.European flag celebrates 40 years as symbol for EU and predecessorTech NewsImage 5: stock photoExtremism and video games: How extremist groups are grooming childrenTravel NewsImage 6: Rijeka, CroatiaPKP launches night train from Warsaw to Croatian coast\\n\\n   Europe [...] Live\\n\\nClose menu sidebar \\n\\n- [x]  English  \\n   English\\n   Français\\n   Deutsch\\n   Italiano\\n   Español\\n   Português\\n   Polski\\n   Pусский\\n   Türkçe\\n   Ελληνικά\\n   Magyar\\n   فارسی\\n   العربية\\n   Shqip\\n   Română\\n   ქართული\\n   български\\n   Srpski\\n   BHS\\n\\nLatest\\n\\n- [x] \\n\\nTrending\\n\\n   Poland\\n   Donald Trump\\n   LGBTQ+\\n   Tourism\\n   European Union\\n   Gay pride\\n\\n  \\n\\nLatest stories\\n\\nTop News Stories TodayImage 22: Latest news bulletin | June 29th – EveningLatest news bulletin | June 29th – Evening [...] Programmes\\n\\n   Spotlight\\n   Euronews Witness\\n   Qatar 365\\n   World News\\n   Euronews Debates\\n   Top News Stories Today\\n\\n  \\n\\nFeatured\\n\\n   Image 28 No Comment No agenda, no argument, no bias, No Comment.Get the story without commentary.\\n\\nEU Policy\\n\\nBusiness\\n\\n- [x] \\n\\nCategories\\n\\n   Business\\n   Economy\\n   Markets\\n\\n  \\n\\nProgrammes\\n\\n   Business Planet\\n   Focus\\n   Global Japan\\n   Real Economy\\n   Start Me Up\\n   The Dialogue\\n   Target\\n   The Exchange\\n\\n  \\n\\nFeatured\", \"raw_content\": null}, {\"url\": \"https://hubnetwork.in/lachen-landslide-armys-tech-driven-rescue-a-new-benchmark-in-disaster-response/\", \"title\": \"Lachen landslide: Army’s tech-driven rescue a new benchmark in disaster response - Hub News\", \"score\": 0.34448805, \"published_date\": \"Tue, 24 Jun 2025 08:38:55 GMT\", \"content\": \"Image 8: spot_img\\n\\n#### Latest article\\n\\n\\n\\n### Opposition blocks KHADC Budget move, House adjourned\\n\\nJune 24, 2025\\n\\n\\n\\n### Tripura achieves 95.6 % literacy, becomes India’s third ‘Fully Literate’ state\\n\\nJune 24, 2025\\n\\n\\n\\n### Education Minister clarifies MoU with Mothers’ Union, assures no change in teachers’ salaries\\n\\nJune 24, 2025\\n\\n\\n\\n### Shillong-Dawki four-laning project on track, Western Bypass hits land snags\\n\\nJune 24, 2025 [...] ### Opposition blocks KHADC Budget move, House adjourned\\n\\nJune 24, 2025\\n\\n\\n\\n### Tripura achieves 95.6 % literacy, becomes India’s third ‘Fully Literate’ state\\n\\nJune 24, 2025\\n\\n\\n\\n### Education Minister clarifies MoU with Mothers’ Union, assures no change in teachers’ salaries\\n\\nJune 24, 2025\\n\\n\\n\\n### Shillong-Dawki four-laning project on track, Western Bypass hits land snags\\n\\nJune 24, 2025\\n\\nImage 7: Hub Network\\n\\nHub Network [...] Guwahati, June 24: A rescue operation by the Indian Army in the highlands of Lachen, Sikkim, has unveiled a powerful new model for disaster response—one that blends boots-on-ground bravery with cutting-edge technology.\", \"raw_content\": null}, {\"url\": \"https://www.cnn.com/2025/06/23/us/5-things-pm-june-23-trnd\", \"title\": \"Dangerous heat waves, box office bounces back, extreme day trips: Catch up on the day’s stories - CNN\", \"score\": 0.30349484, \"published_date\": \"Mon, 23 Jun 2025 21:02:00 GMT\", \"content\": \"2️⃣ Masked up:Federal officers — often wearing masks but not uniforms or displaying badges — are arresting people outside courtroom hearings, during traffic stops and in workplace sweeps. It has become the new calling card of the immigration crackdown.\\n\\n3️⃣ All-star defense:Nine attorneys fill two tables in the courtroom for Sean “Diddy” Combs during his sex-trafficking trial. Some are confrontational cross examiners, while others take a softer approach to witnesses. The stakes are high. [...] 🚘 Preserving a classic:Hong Kong announced a shift away from the city’s iconic red taxis toward multicolored electric and hybrid vehicles, so Alan Wu bought one and refurbished it to keep the nostalgia alive.\\n\\nTop headlines\\n-------------\\n\\n• Iranian missiles fired at US base in Qatar intercepted\\n\\n• 6 reported dead and 2 missing after boat capsizes on Lake Tahoe\\n\\n• Texas governor vetoes bill that would ban all THC products\\n\\n145\\n--- [...] First images from the largest camera ever built reveal millions of galaxies\\n\\nMake Alberta Great Again: In this Canadian province, separatists see Trump as an ally\\n\\nHere’s how Iran could respond to US strikes on its nuclear sites\\n\\nSupreme Court prepares to release major opinions on birthright citizenship, LGBTQ books, porn sites and more\\n\\nBride shot dead at wedding party in French village\\n\\nTrump floats Iran ‘regime change’ even as the true impact of US strikes is far from clear\", \"raw_content\": null}, {\"url\": \"https://www.cnn.com/2025/06/26/economy/us-gdp-q1-final\", \"title\": \"The US economy shrank much faster in the first quarter than previously reported - CNN\", \"score\": 0.20027633, \"published_date\": \"Thu, 26 Jun 2025 12:40:00 GMT\", \"content\": \"Image 2Trump’s tariffs were supposed to strengthen the dollar. So why is it the weakest it’s been in three years? Jun 25, 2025 4 minute read min read\\n\\nImage 3Trump megabill and economic agenda would spur growth and reduce national debt, according to White House report Jun 25, 2025 3 minute read min read\\n\\nImage 4Americans are feeling worse about the economy — especially Republicans Jun 24, 2025 2 minute read min read [...] Gross domestic product, the broadest measure of economic output, registered an annualized rate of -0.5% from January through March, the Commerce Department said Thursday in its third and final estimate. That’s worse than the 0.2% decline reported in the second estimate. GDP is adjusted for seasonal swings and inflation.\\n\\n_This is a developing story and will be updated._\\n\\nAd Feedback\\n\\n5 comments\\n\\nUp next\\n------- [...] QuantumScape Corporation Class A\\n\\n5.67\\n\\n+ 1.34\\n\\n30.95%\\n\\nFear & Greed Index\\n\\n58\\n\\n\\n\\n Link Copied! \\n\\n5 comments\\n\\nFollow:\\n\\nSee your latest updates\\n\\nImage 1\\n\\nCNN\\n\\nWashington CNN—\\n\\nThe US economy contracted in the beginning of the year at a much faster pace than previously reported, as tariff fears took a much greater toll on economic growth.\", \"raw_content\": null}], \"response_time\": 2.17}\n"
     ]
    }
   ],
   "source": [
    "for m in result[\"messages\"]:\n",
    "    m.pretty_print()"
   ]
  },
  {
   "cell_type": "code",
   "execution_count": 23,
   "id": "d0535f95",
   "metadata": {},
   "outputs": [
    {
     "name": "stdout",
     "output_type": "stream",
     "text": [
      "================================\u001b[1m Human Message \u001b[0m=================================\n",
      "\n",
      "what is 2 + 3\n",
      "==================================\u001b[1m Ai Message \u001b[0m==================================\n",
      "Tool Calls:\n",
      "  my_func (dm2q0vb71)\n",
      " Call ID: dm2q0vb71\n",
      "  Args:\n",
      "    a: 2\n",
      "    b: 3\n",
      "=================================\u001b[1m Tool Message \u001b[0m=================================\n",
      "Name: my_func\n",
      "\n",
      "5\n"
     ]
    }
   ],
   "source": [
    "from langchain_core.messages import HumanMessage\n",
    "\n",
    "result = graphs.invoke({\n",
    "    \"messages\": [HumanMessage(content=\"what is 2 + 3\")]\n",
    "})\n",
    "\n",
    "for m in result[\"messages\"]:\n",
    "    m.pretty_print()"
   ]
  }
 ],
 "metadata": {
  "kernelspec": {
   "display_name": ".venv",
   "language": "python",
   "name": "python3"
  },
  "language_info": {
   "codemirror_mode": {
    "name": "ipython",
    "version": 3
   },
   "file_extension": ".py",
   "mimetype": "text/x-python",
   "name": "python",
   "nbconvert_exporter": "python",
   "pygments_lexer": "ipython3",
   "version": "3.10.9"
  }
 },
 "nbformat": 4,
 "nbformat_minor": 5
}
