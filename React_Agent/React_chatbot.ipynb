{
 "cells": [
  {
   "cell_type": "code",
   "execution_count": 1,
   "id": "bc8c4ee2",
   "metadata": {},
   "outputs": [],
   "source": [
    "from typing import Annotated #add some speical things to do \n",
    "from typing_extensions import TypedDict  #it tell you to key value relation\n",
    "\n",
    "from langgraph.graph import StateGraph,START,END\n",
    "from langgraph.graph.message import add_messages"
   ]
  },
  {
   "cell_type": "code",
   "execution_count": 2,
   "id": "cf6f9d0b",
   "metadata": {},
   "outputs": [
    {
     "data": {
      "text/plain": [
       "True"
      ]
     },
     "execution_count": 2,
     "metadata": {},
     "output_type": "execute_result"
    }
   ],
   "source": [
    "import os \n",
    "from dotenv import load_dotenv\n",
    "load_dotenv()"
   ]
  },
  {
   "cell_type": "code",
   "execution_count": 3,
   "id": "fc713285",
   "metadata": {},
   "outputs": [],
   "source": [
    "from langchain_groq import ChatGroq\n",
    "llm=ChatGroq(model=\"llama3-8b-8192\")"
   ]
  },
  {
   "cell_type": "code",
   "execution_count": 7,
   "id": "154f258e",
   "metadata": {},
   "outputs": [
    {
     "data": {
      "text/plain": [
       "{'query': 'What is today news',\n",
       " 'follow_up_questions': None,\n",
       " 'answer': None,\n",
       " 'images': [],\n",
       " 'results': [{'url': 'https://www.usatoday.com/',\n",
       "   'title': 'USA TODAY - Breaking News and Latest News Today',\n",
       "   'content': \"Will Trump's big tax bill come back to bite the GOP in 2026? At least 24 dead, children missing from summer camp in Texas flooding. 6 tiny towns\",\n",
       "   'score': 0.43208793,\n",
       "   'raw_content': None},\n",
       "  {'url': 'https://www.cbsnews.com/',\n",
       "   'title': \"CBS News | Breaking news, top stories & today's latest headlines\",\n",
       "   'content': 'Dozens dead in Texas after devastating floods slam Hill Country, officials say · Trump signs \"big, beautiful bill\" in July Fourth ceremony at White House.',\n",
       "   'score': 0.39494804,\n",
       "   'raw_content': None},\n",
       "  {'url': 'https://www.cnn.com/',\n",
       "   'title': 'CNN: Breaking News, Latest News and Videos',\n",
       "   'content': 'View the latest news and breaking news today for U.S., world, weather, entertainment, politics and health at CNN.com.',\n",
       "   'score': 0.33809948,\n",
       "   'raw_content': None},\n",
       "  {'url': 'https://www.foxnews.com/',\n",
       "   'title': 'Fox News - Breaking News Updates | Latest News Headlines ...',\n",
       "   'content': \"Latest Breaking News Today from Fox News · Federal judge thwarts Trump admin's holiday deportation plan for criminal migrants - Fox News · First lady Melania\",\n",
       "   'score': 0.31050667,\n",
       "   'raw_content': None},\n",
       "  {'url': 'https://www.nbcnews.com/',\n",
       "   'title': 'NBC News - Breaking News & Top Stories - Latest World, US ...',\n",
       "   'content': 'Go to NBCNews.com for breaking news, videos, and the latest top stories in world news, business, politics, health and pop culture.',\n",
       "   'score': 0.16257967,\n",
       "   'raw_content': None}],\n",
       " 'response_time': 1.73}"
      ]
     },
     "execution_count": 7,
     "metadata": {},
     "output_type": "execute_result"
    }
   ],
   "source": [
    "from langchain_tavily import TavilySearch\n",
    "takivly_tool=TavilySearch(max_result=2)\n",
    "takivly_tool.invoke(\"What is today news\")"
   ]
  },
  {
   "cell_type": "code",
   "execution_count": 4,
   "id": "15269e54",
   "metadata": {},
   "outputs": [],
   "source": [
    "#how to work with custom function and this is docs string\n",
    "from langchain.tools import tool\n",
    "\n",
    "@tool\n",
    "def my_func(a: int, b: int) -> int:\n",
    "    \"\"\"\n",
    "    Adds two numbers.\n",
    "\n",
    "    Args:\n",
    "        a (int): First number.\n",
    "        b (int): Second number.\n",
    "\n",
    "    Returns:\n",
    "        int: Sum of a and b.\n",
    "    \"\"\"\n",
    "    return a + b\n"
   ]
  },
  {
   "cell_type": "code",
   "execution_count": 5,
   "id": "408ee5b2",
   "metadata": {},
   "outputs": [],
   "source": [
    "llm_with_tool = llm.bind_tools([my_func])\n"
   ]
  },
  {
   "cell_type": "code",
   "execution_count": 8,
   "id": "9a8fe0d9",
   "metadata": {},
   "outputs": [],
   "source": [
    "tools=[takivly_tool,my_func]\n"
   ]
  },
  {
   "cell_type": "code",
   "execution_count": 9,
   "id": "604f3e78",
   "metadata": {},
   "outputs": [],
   "source": [
    "llm_with_tool=llm.bind_tools(tools)"
   ]
  },
  {
   "cell_type": "code",
   "execution_count": 10,
   "id": "3fa3ffd5",
   "metadata": {},
   "outputs": [],
   "source": [
    "class state(TypedDict):\n",
    "    messages:Annotated[list,add_messages]\n",
    "\n",
    "graph_builder=StateGraph(state)"
   ]
  },
  {
   "cell_type": "code",
   "execution_count": 11,
   "id": "2e5d207c",
   "metadata": {},
   "outputs": [],
   "source": [
    "from langgraph.graph import StateGraph,START,END\n",
    "from langgraph.prebuilt import ToolNode\n",
    "from langgraph.prebuilt import tools_condition"
   ]
  },
  {
   "cell_type": "code",
   "execution_count": 12,
   "id": "1440b10a",
   "metadata": {},
   "outputs": [
    {
     "data": {
      "image/png": "[encoded data removed]",
      "text/plain": [
       "<langgraph.graph.state.CompiledStateGraph object at 0x000002972B2F29E0>"
      ]
     },
     "execution_count": 12,
     "metadata": {},
     "output_type": "execute_result"
    }
   ],
   "source": [
    "def tool_calling_llm(state:state):\n",
    "    return {\"messages\":[llm_with_tool.invoke(state[\"messages\"])]}\n",
    "#Nodes\n",
    "graph_builder.add_node(\"tool_calling_llm\",tool_calling_llm)\n",
    "graph_builder.add_node(\"tools\",ToolNode(tools))\n",
    "\n",
    "#edges\n",
    "graph_builder.add_edge(START,\"tool_calling_llm\")\n",
    "def my_tools_condition(state):\n",
    "    \"\"\"Custom tools condition that checks for tool calls\"\"\"\n",
    "    messages = state.get(\"messages\", [])\n",
    "    if not messages:\n",
    "        return \"end\"\n",
    "    \n",
    "    last_message = messages[-1]\n",
    "    \n",
    "    # Check if the last message has tool calls\n",
    "    if hasattr(last_message, 'tool_calls') and last_message.tool_calls:\n",
    "        return \"tools\"\n",
    "    else:\n",
    "        return \"end\"\n",
    "\n",
    "# Use your custom function\n",
    "graph_builder.add_conditional_edges(\n",
    "    \"tool_calling_llm\",\n",
    "    my_tools_condition,\n",
    "    {\n",
    "        \"tools\": \"tools\",\n",
    "        \"end\": END\n",
    "    }\n",
    ")\n",
    "graph_builder.add_edge(\"tools\",\"tool_calling_llm\")\n",
    "graphs=graph_builder.compile()\n",
    "graphs"
   ]
  },
  {
   "cell_type": "code",
   "execution_count": 21,
   "id": "6c0090c0",
   "metadata": {},
   "outputs": [
    {
     "data": {
      "text/plain": [
       "{'messages': [SystemMessage(content='Only return the main result from the search. Do not summarize.', additional_kwargs={}, response_metadata={}, id='9d0d5d25-45d5-4e48-9308-7d4da86e355f'),\n",
       "  HumanMessage(content='what is the weather today', additional_kwargs={}, response_metadata={}, id='528197ec-ee5a-4473-82d7-54dc972a86d9'),\n",
       "  AIMessage(content='', additional_kwargs={'tool_calls': [{'id': '3qwjpdkjt', 'function': {'arguments': '{\"query\":\"weather today\",\"search_depth\":\"advanced\",\"time_range\":\"day\",\"topic\":\"general\"}', 'name': 'tavily_search'}, 'type': 'function'}]}, response_metadata={'token_usage': {'completion_tokens': 92, 'prompt_tokens': 2226, 'total_tokens': 2318, 'completion_time': 0.085630178, 'prompt_time': 0.247083483, 'queue_time': 0.20938749500000003, 'total_time': 0.332713661}, 'model_name': 'llama3-8b-8192', 'system_fingerprint': 'fp_6d1c2b0784', 'finish_reason': 'tool_calls', 'logprobs': None}, id='run--b7d17c8c-11b7-4c5f-a92b-f7a3e58a9fbe-0', tool_calls=[{'name': 'tavily_search', 'args': {'query': 'weather today', 'search_depth': 'advanced', 'time_range': 'day', 'topic': 'general'}, 'id': '3qwjpdkjt', 'type': 'tool_call'}], usage_metadata={'input_tokens': 2226, 'output_tokens': 92, 'total_tokens': 2318}),\n",
       "  ToolMessage(content='{\"query\": \"weather today\", \"follow_up_questions\": null, \"answer\": null, \"images\": [], \"results\": [{\"url\": \"https://www.youtube.com/watch?v=qQPRlCivELs\", \"title\": \"05/07/2025 - Wet and windy - Morning Weather Forecast UK\", \"content\": \"Met Office - UK Weather\\\\n882 likes\\\\n26443 views\\\\n5 Jul 2025\\\\nThis morning a damp start across Scotland, Northern Ireland, northern England, Wales and the South West, with drier but cloudy conditions elsewhere. These conditions will continue through today, with perhaps a few sunny spells in central areas. Some heavy rain is possible later on in the South West. This is the Met Office UK Weather forecast for the morning of 05/07/2025. Bringing you today’s weather forecast is Alex Burkill. [...] Subscribe to make sure you never miss the latest UK weather forecast or important weather warning - \\\\n\\\\nWe are the Met Office, the UK’s national weather service, and every day of the week we bring you a morning weather forecast and an afternoon weather forecast so that wherever you are in the UK we have you covered. [...] Forecasts and any weather warnings are accurate at time of recording. To ensure you have the most up to date weather information, check the hourly forecast and live warnings on the Met Office website or app.\\\\n36 comments\", \"score\": 0.942385, \"raw_content\": null}, {\"url\": \"https://www.metmalawi.gov.mw/products/daily-forecast/weather-forecast-5-july-2025/\", \"title\": \"Weather Forecast 5 July 2025\", \"content\": \"SYNOPSIS AND INFERENCE: Expect partly cloudy and warm conditions over most areas as the night and early morning will remain cold due to easterly airmass.\", \"score\": 0.8783249, \"raw_content\": null}, {\"url\": \"https://egramswaraj.gov.in/mausam.do\", \"title\": \"Weather Forecast Dashboard\", \"content\": \"Current Weather. 7:00 PM. 33.8°C. Wind Speed. 2.9m/s. Cloud Cover. 64.3 ... 05-07-2025, 31.33, 37.08, 2.71, 52.6, South-South Easterly (155°), 2.23, Generally\", \"score\": 0.8638634, \"raw_content\": null}, {\"url\": \"https://www.wboc.com/weather/forecast-july-5th-2025/article_8c0deca5-c4e0-4fa6-934e-a6ba6a842407.html\", \"title\": \"Forecast July 5th, 2025 | WBOC Weather\", \"content\": \"humidity than expected. For today waking up to temps in the lower 60\\'s, gives way to an abundance of\\\\n\\\\nsunshine across the peninsula. Highs today in the upper 80\\'s. Winds calm becoming southwest 5-10 mph by afternoon.\\\\n\\\\nSaturday evening mostly clear, with a low around 65 degrees. Winds remain southeast 5-10 mph.\\\\n\\\\nSunday waking up to sunny skies and highs near 89. South wind 5 to 10 mph. Sunday evening chance of showers and storms [...] showers and storms with lows 75 degrees. Chance of precipitation 30%. Wednesday sunshine returns with highs in\\\\n\\\\nthe lower 90\\'s. Wednesday evening chance of showers early, otherwise partly cloudy, with a low around 74. Chance of precipitation is 30%.\\\\n\\\\nThursday a chance of showers and thunderstorms. Partly sunny, with a high near 89. Chance of precipitation is 40%.\\\\n\\\\nThursday evening a chance of showers and thunderstorms. Mostly cloudy, with a low around 73. Chance of precipitation is 50%. [...] moves in the forecast as a tropical low pressure moves in along the Southeast coast. Monday unstable summertime conditions\\\\n\\\\ntake over with showers and thunderstorms after 11am. Highs 88 degrees and 40% chance of precipitation. Monday\\\\n\\\\nevening showers and thunderstorms possible other wise mostly cloudy. Chance of precipitation 40%.\\\\n\\\\nTuesday conditions remain unstable, highs 91 degrees, with a 40% chance of showers and storms. Tuesday evening\", \"score\": 0.8533396, \"raw_content\": null}, {\"url\": \"https://www.facebook.com/covidpete/posts/sydneycurrent-weather-05-07-2025current-temp-738-status-clearhows-the-weather-at/1230801368732863/\", \"title\": \"SYDNEY Current Weather 05-07-2025 ... - Facebook\", \"content\": \"SYDNEY Current Weather 05-07-2025 ============= Current Temp : 7.38 ° Status : Clear . . How\\'s the weather at your place? Let us know below.\", \"score\": 0.85008353, \"raw_content\": null}], \"response_time\": 5.3}', name='tavily_search', id='4b70b4c2-cf70-4b72-b437-2de9987b55b8', tool_call_id='3qwjpdkjt'),\n",
       "  AIMessage(content='Based on the tool call result, the weather forecast for today is partly cloudy and warm in most areas, with a high chance of showers and thunderstorms in some regions.', additional_kwargs={}, response_metadata={'token_usage': {'completion_tokens': 35, 'prompt_tokens': 3375, 'total_tokens': 3410, 'completion_time': 0.032372312, 'prompt_time': 0.683333689, 'queue_time': 0.3228772889999999, 'total_time': 0.715706001}, 'model_name': 'llama3-8b-8192', 'system_fingerprint': 'fp_6d1c2b0784', 'finish_reason': 'stop', 'logprobs': None}, id='run--23d23bee-dffd-4f5e-9114-3cc4a7fea616-0', usage_metadata={'input_tokens': 3375, 'output_tokens': 35, 'total_tokens': 3410})]}"
      ]
     },
     "execution_count": 21,
     "metadata": {},
     "output_type": "execute_result"
    }
   ],
   "source": [
    "from langchain_core.messages import SystemMessage\n",
    "\n",
    "system_instruction = SystemMessage(content=\"Only return the main result from the search. Do not summarize.\")\n",
    "\n",
    "results=graphs.invoke({\n",
    "    \"messages\": [system_instruction, HumanMessage(content=\"what is the weather today\")]\n",
    "})\n",
    "results\n"
   ]
  },
  {
   "cell_type": "code",
   "execution_count": 23,
   "id": "ae650065",
   "metadata": {},
   "outputs": [
    {
     "name": "stdout",
     "output_type": "stream",
     "text": [
      "================================\u001b[1m Human Message \u001b[0m=================================\n",
      "\n",
      "what today weather and what  is 2 + 3\n",
      "==================================\u001b[1m Ai Message \u001b[0m==================================\n",
      "\n",
      "The current weather is partly cloudy with a high of 22°C and a low of 18°C. The wind speed is moderate, and there is a 30% chance of scattered thunderstorms.\n",
      "\n",
      "As for your math question, 2 + 3 is equal to 5.\n"
     ]
    }
   ],
   "source": [
    "from langchain_core.messages import HumanMessage\n",
    "\n",
    "result = graphs.invoke({\n",
    "    \"messages\": [HumanMessage(content=\"what today weather and what  is 2 + 3\")]\n",
    "})\n",
    "\n",
    "for m in result[\"messages\"]:\n",
    "    m.pretty_print()"
   ]
  },
  {
   "cell_type": "code",
   "execution_count": 24,
   "id": "448c1d4b",
   "metadata": {},
   "outputs": [
    {
     "name": "stdout",
     "output_type": "stream",
     "text": [
      "🧠 LLM Response: what today weather and what is 2 + 3\n",
      "🤖 Tool call detected: [{'name': 'tavily_search', 'args': {'query': 'what is the weather today'}, 'id': '947rfc0tc', 'type': 'tool_call'}, {'name': 'my_func', 'args': {'a': 2, 'b': 3}, 'id': '045x1vdjq', 'type': 'tool_call'}]\n",
      "✅ Tool called: tavily_search\n",
      "Output: {\"query\": \"what is the weather today\", \"follow_up_questions\": null, \"answer\": null, \"images\": [], \"results\": [{\"title\": \"Weather in current location\", \"url\": \"https://www.weatherapi.com/\", \"content\": \"{'location': {'name': 'Current', 'region': 'Harbour Island', 'country': 'Bahamas', 'lat': 25.4333, 'lon': -76.7833, 'tz_id': 'America/Nassau', 'localtime_epoch': 1751714840, 'localtime': '2025-07-05 07:27'}, 'current': {'last_updated_epoch': 1751714100, 'last_updated': '2025-07-05 07:15', 'temp_c': 26.8, 'temp_f': 80.2, 'is_day': 1, 'condition': {'text': 'Partly Cloudy', 'icon': '//cdn.weatherapi.com/weather/64x64/day/116.png', 'code': 1003}, 'wind_mph': 15.9, 'wind_kph': 25.6, 'wind_degree': 170, 'wind_dir': 'S', 'pressure_mb': 1017.0, 'pressure_in': 30.04, 'precip_mm': 0.0, 'precip_in': 0.0, 'humidity': 89, 'cloud': 45, 'feelslike_c': 31.2, 'feelslike_f': 88.1, 'windchill_c': 26.8, 'windchill_f': 80.2, 'heatindex_c': 31.2, 'heatindex_f': 88.1, 'dewpoint_c': 24.6, 'dewpoint_f': 76.2, 'vis_km': 10.0, 'vis_miles': 6.0, 'uv': 0.2, 'gust_mph': 21.3, 'gust_kph': 34.2}}\", \"score\": 0.9674872, \"raw_content\": null}, {\"url\": \"https://mycbs4.com/weather/weather-may-7-2025\", \"title\": \"Weather: May 7, 2025 - WGFL\", \"content\": \"Today's forecast is partly sunny. There is a chance of showers in the morning, then showers and thunderstorms are likely in the afternoon.\", \"score\": 0.8974172, \"raw_content\": null}, {\"url\": \"https://www.youtube.com/watch?v=qQPRlCivELs\", \"title\": \"05/07/2025 - Wet and windy - Morning Weather Forecast UK\", \"content\": \"... Weather forecast for the morning of 05/07/2025. Bringing you today's weather forecast is Alex Burkill. Subscribe to make sure you never miss\", \"score\": 0.82254606, \"raw_content\": null}, {\"url\": \"https://www.kplctv.com/video/2025/05/07/sunrise-weather-forecast-may-7-2025/\", \"title\": \"Sunrise Weather Forecast - May 7, 2025 - KPLC\", \"content\": \"Warm and humid weather continues for the 4th, but any spotty storms should exit in. 7 News Live at Five - KPLC First Alert\", \"score\": 0.78154784, \"raw_content\": null}, {\"url\": \"https://www.msn.com/en-gb/news/world/met-office-saturday-morning-weather-forecast-05-07-2025/vi-AA1I0p8E\", \"title\": \"Met Office Saturday Morning Weather Forecast 05/07/2025 - MSN\", \"content\": \"Met Office Saturday Morning Weather Forecast 05/07/2025. Posted: 5 July 2025 | Last updated: 5 July 2025. 5 July - national forecast presented\", \"score\": 0.6994397, \"raw_content\": null}], \"response_time\": 3.16}\n",
      "✅ Tool called: my_func\n",
      "Output: 5\n",
      "🧠 LLM Response: <tool-use></tool-use>\n"
     ]
    }
   ],
   "source": [
    "from langchain_core.messages import HumanMessage, AIMessage, ToolMessage\n",
    "\n",
    "result = graphs.invoke({\n",
    "    \"messages\": [HumanMessage(content=\"what today weather and what is 2 + 3\")]\n",
    "})\n",
    "\n",
    "for msg in result[\"messages\"]:\n",
    "    if isinstance(msg, ToolMessage):\n",
    "        print(\"✅ Tool called:\", msg.name)\n",
    "        print(\"Output:\", msg.content)\n",
    "    elif hasattr(msg, \"tool_calls\") and msg.tool_calls:\n",
    "        print(\"🤖 Tool call detected:\", msg.tool_calls)\n",
    "    else:\n",
    "        print(\"🧠 LLM Response:\", msg.content)\n"
   ]
  }
 ],
 "metadata": {
  "kernelspec": {
   "display_name": ".venv",
   "language": "python",
   "name": "python3"
  },
  "language_info": {
   "codemirror_mode": {
    "name": "ipython",
    "version": 3
   },
   "file_extension": ".py",
   "mimetype": "text/x-python",
   "name": "python",
   "nbconvert_exporter": "python",
   "pygments_lexer": "ipython3",
   "version": "3.10.9"
  }
 },
 "nbformat": 4,
 "nbformat_minor": 5
}
