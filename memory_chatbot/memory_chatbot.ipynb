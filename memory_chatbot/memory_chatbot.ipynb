{
 "cells": [
  {
   "cell_type": "code",
   "execution_count": 1,
   "id": "df360c02",
   "metadata": {},
   "outputs": [],
   "source": [
    "from typing import Annotated #add some speical things to do \n",
    "from typing_extensions import TypedDict  #it tell you to key value relation\n",
    "\n",
    "from langgraph.graph import StateGraph,START,END\n",
    "from langgraph.graph.message import add_messages"
   ]
  },
  {
   "cell_type": "code",
   "execution_count": 2,
   "id": "53212409",
   "metadata": {},
   "outputs": [
    {
     "data": {
      "text/plain": [
       "True"
      ]
     },
     "execution_count": 2,
     "metadata": {},
     "output_type": "execute_result"
    }
   ],
   "source": [
    "import os \n",
    "from dotenv import load_dotenv\n",
    "load_dotenv()"
   ]
  },
  {
   "cell_type": "code",
   "execution_count": 3,
   "id": "8d1022fc",
   "metadata": {},
   "outputs": [],
   "source": [
    "from langchain_groq import ChatGroq\n",
    "llm=ChatGroq(model=\"llama3-8b-8192\")"
   ]
  },
  {
   "cell_type": "code",
   "execution_count": 4,
   "id": "6a9ca707",
   "metadata": {},
   "outputs": [
    {
     "data": {
      "text/plain": [
       "{'query': 'What is today news',\n",
       " 'follow_up_questions': None,\n",
       " 'answer': None,\n",
       " 'images': [],\n",
       " 'results': [{'url': 'https://www.usatoday.com/',\n",
       "   'title': 'USA TODAY - Breaking News and Latest News Today',\n",
       "   'content': 'USA TODAY delivers current national and local news, sports, entertainment, finance, technology, and more through award-winning journalism, photos,',\n",
       "   'score': 0.61057013,\n",
       "   'raw_content': None},\n",
       "  {'url': 'https://www.cnn.com/',\n",
       "   'title': 'CNN: Breaking News, Latest News and Videos',\n",
       "   'content': 'View the latest news and breaking news today for U.S., world, weather, entertainment, politics and health at CNN.com.',\n",
       "   'score': 0.33809948,\n",
       "   'raw_content': None},\n",
       "  {'url': 'https://www.foxnews.com/',\n",
       "   'title': 'Fox News - Breaking News Updates | Latest News Headlines ...',\n",
       "   'content': \"Latest Breaking News Today from Fox News · Iran's regime confiscates phones, cuts internet as citizens face brutal new reality - Fox News\",\n",
       "   'score': 0.31472462,\n",
       "   'raw_content': None},\n",
       "  {'url': 'https://abcnews.go.com/',\n",
       "   'title': 'ABC News - Breaking News, Latest News and Videos',\n",
       "   'content': 'Ukraine says it struck Russian airbase as Russia sent hundreds of drones into Ukraine · Pope Leo XIV resumes the tradition of taking a summer vacation.',\n",
       "   'score': 0.22929391,\n",
       "   'raw_content': None},\n",
       "  {'url': 'https://www.nbcnews.com/',\n",
       "   'title': 'NBC News - Breaking News & Top Stories - Latest World, US ...',\n",
       "   'content': '24 dead in Texas flash flooding, and search continues for more than 20 missing from camp. More than 400 people are on the ground responding to the disaster',\n",
       "   'score': 0.19715096,\n",
       "   'raw_content': None}],\n",
       " 'response_time': 2.17}"
      ]
     },
     "execution_count": 4,
     "metadata": {},
     "output_type": "execute_result"
    }
   ],
   "source": [
    "from langchain_tavily import TavilySearch\n",
    "takivly_tool=TavilySearch(max_result=2)\n",
    "takivly_tool.invoke(\"What is today news\")"
   ]
  },
  {
   "cell_type": "code",
   "execution_count": 5,
   "id": "e204fddb",
   "metadata": {},
   "outputs": [],
   "source": [
    "#how to work with custom function and this is docs string\n",
    "from langchain.tools import tool\n",
    "\n",
    "@tool\n",
    "def my_func(a: int, b: int) -> int:\n",
    "    \"\"\"\n",
    "    Adds two numbers.\n",
    "\n",
    "    Args:\n",
    "        a (int): First number.\n",
    "        b (int): Second number.\n",
    "\n",
    "    Returns:\n",
    "        int: Sum of a and b.\n",
    "    \"\"\"\n",
    "    return a + b\n"
   ]
  },
  {
   "cell_type": "code",
   "execution_count": 6,
   "id": "a3cbf1ff",
   "metadata": {},
   "outputs": [],
   "source": [
    "llm_with_tool = llm.bind_tools([my_func])\n"
   ]
  },
  {
   "cell_type": "code",
   "execution_count": 7,
   "id": "c622d035",
   "metadata": {},
   "outputs": [],
   "source": [
    "tools=[takivly_tool,my_func]\n"
   ]
  },
  {
   "cell_type": "code",
   "execution_count": 8,
   "id": "3f50fb8b",
   "metadata": {},
   "outputs": [],
   "source": [
    "llm_with_tool=llm.bind_tools(tools)"
   ]
  },
  {
   "cell_type": "code",
   "execution_count": 9,
   "id": "50466aa6",
   "metadata": {},
   "outputs": [],
   "source": [
    "class state(TypedDict):\n",
    "    messages:Annotated[list,add_messages]\n",
    "\n",
    "graph_builder=StateGraph(state)"
   ]
  },
  {
   "cell_type": "code",
   "execution_count": 11,
   "id": "1a25202a",
   "metadata": {},
   "outputs": [],
   "source": [
    "from langgraph.graph import StateGraph,START,END\n",
    "from langgraph.prebuilt import ToolNode\n",
    "from langgraph.prebuilt import tools_condition\n",
    "from langgraph.checkpoint.memory import MemorySaver"
   ]
  },
  {
   "cell_type": "code",
   "execution_count": 12,
   "id": "8e5e559e",
   "metadata": {},
   "outputs": [
    {
     "data": {
      "image/png": "[encoded data removed]",
      "text/plain": [
       "<langgraph.graph.state.CompiledStateGraph object at 0x0000019267342F20>"
      ]
     },
     "execution_count": 12,
     "metadata": {},
     "output_type": "execute_result"
    }
   ],
   "source": [
    "#for memory\n",
    "memory=MemorySaver()\n",
    "\n",
    "def tool_calling_llm(state:state):\n",
    "    return {\"messages\":[llm_with_tool.invoke(state[\"messages\"])]}\n",
    "#Nodes\n",
    "graph_builder.add_node(\"tool_calling_llm\",tool_calling_llm)\n",
    "graph_builder.add_node(\"tools\",ToolNode(tools))\n",
    "\n",
    "#edges\n",
    "graph_builder.add_edge(START,\"tool_calling_llm\")\n",
    "def my_tools_condition(state):\n",
    "    \"\"\"Custom tools condition that checks for tool calls\"\"\"\n",
    "    messages = state.get(\"messages\", [])\n",
    "    if not messages:\n",
    "        return \"end\"\n",
    "    \n",
    "    last_message = messages[-1]\n",
    "    \n",
    "    # Check if the last message has tool calls\n",
    "    if hasattr(last_message, 'tool_calls') and last_message.tool_calls:\n",
    "        return \"tools\"\n",
    "    else:\n",
    "        return \"end\"\n",
    "\n",
    "# Use your custom function\n",
    "graph_builder.add_conditional_edges(\n",
    "    \"tool_calling_llm\",\n",
    "    my_tools_condition,\n",
    "    {\n",
    "        \"tools\": \"tools\",\n",
    "        \"end\": END\n",
    "    }\n",
    ")\n",
    "graph_builder.add_edge(\"tools\",\"tool_calling_llm\")\n",
    "graphs=graph_builder.compile(checkpointer=memory)\n",
    "graphs"
   ]
  },
  {
   "cell_type": "code",
   "execution_count": 13,
   "id": "d0626137",
   "metadata": {},
   "outputs": [],
   "source": [
    "config={\"configurable\":{\"thread_id\":\"1\"}}"
   ]
  },
  {
   "cell_type": "code",
   "execution_count": 28,
   "id": "8015f02b",
   "metadata": {},
   "outputs": [],
   "source": [
    "from langchain_core.messages import SystemMessage, HumanMessage\n",
    "\n",
    "system_instruction = SystemMessage(content=\"Respond factually to the user's message. If the user talks about themselves, do not assume they mean someone famous.\")\n",
    "user_message = HumanMessage(content=\"Hi, My name is muhammad Salman\")\n",
    "\n",
    "\n",
    "results = graphs.invoke(\n",
    "    {\n",
    "        \"messages\": [system_instruction, user_message]\n",
    "    },\n",
    "    config=config  \n",
    ")\n",
    "\n"
   ]
  },
  {
   "cell_type": "code",
   "execution_count": 29,
   "id": "9468af96",
   "metadata": {},
   "outputs": [
    {
     "name": "stdout",
     "output_type": "stream",
     "text": [
      "Okay! I think we've reached a new record! Your name is Muhammad Salman... again!\n"
     ]
    }
   ],
   "source": [
    "from langchain_core.messages import AIMessage\n",
    "\n",
    "# Get the last AI message\n",
    "ai_messages = [msg for msg in results[\"messages\"] if isinstance(msg, AIMessage)]\n",
    "last_ai_response = ai_messages[-1].content if ai_messages else \"No AI response found.\"\n",
    "\n",
    "print(last_ai_response)\n"
   ]
  },
  {
   "cell_type": "code",
   "execution_count": 31,
   "id": "7cc840b0",
   "metadata": {},
   "outputs": [],
   "source": [
    "response=graphs.invoke(\n",
    "    {\n",
    "        \"messages\": [system_instruction,HumanMessage(content=\"Hi, what is my name\") ]\n",
    "    },\n",
    "    config=config  \n",
    ")"
   ]
  },
  {
   "cell_type": "code",
   "execution_count": 32,
   "id": "87ca4c96",
   "metadata": {},
   "outputs": [
    {
     "name": "stdout",
     "output_type": "stream",
     "text": [
      "Déjà vu! Your name is Muhammad Salman!\n",
      "Okay! I think we've reached a new record! Your name is Muhammad Salman... again!\n"
     ]
    }
   ],
   "source": [
    "from langchain_core.messages import AIMessage\n",
    "\n",
    "# Get the last AI message\n",
    "ai_messages = [msg for msg in response[\"messages\"] if isinstance(msg, AIMessage)]\n",
    "last_ai_response = ai_messages[-1].content if ai_messages else \"No AI response found.\"\n",
    "\n",
    "print(last_ai_response)\n",
    "from langchain_core.messages import AIMessage\n",
    "\n",
    "# Get the last AI message\n",
    "ai_messages = [msg for msg in results[\"messages\"] if isinstance(msg, AIMessage)]\n",
    "last_ai_response = ai_messages[-1].content if ai_messages else \"No AI response found.\"\n",
    "\n",
    "print(last_ai_response)\n"
   ]
  }
 ],
 "metadata": {
  "kernelspec": {
   "display_name": ".venv",
   "language": "python",
   "name": "python3"
  },
  "language_info": {
   "codemirror_mode": {
    "name": "ipython",
    "version": 3
   },
   "file_extension": ".py",
   "mimetype": "text/x-python",
   "name": "python",
   "nbconvert_exporter": "python",
   "pygments_lexer": "ipython3",
   "version": "3.10.9"
  }
 },
 "nbformat": 4,
 "nbformat_minor": 5
}
